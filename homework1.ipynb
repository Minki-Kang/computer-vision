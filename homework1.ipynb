{
 "cells": [
  {
   "cell_type": "code",
   "execution_count": 17,
   "metadata": {},
   "outputs": [],
   "source": [
    "import cv2\n",
    "import numpy as np"
   ]
  },
  {
   "cell_type": "code",
   "execution_count": 18,
   "metadata": {},
   "outputs": [],
   "source": [
    "img = cv2.imread('sonny.jpg')\n",
    "cv2.imshow('image',img)\n",
    "k = cv2.waitKey(0)\n",
    "if k == 27: # wait for ESC key to exit\n",
    "    cv2.destroyAllWindows()"
   ]
  },
  {
   "cell_type": "code",
   "execution_count": 19,
   "metadata": {},
   "outputs": [],
   "source": [
    "drawing = False # true if mouse is pressed\n",
    "mode = 0 # if True, draw rectangle. Press 'm' to toggle to curve\n",
    "ix,iy = -1,-1\n",
    "cx,cy = -1,-1\n",
    "font = cv2.FONT_HERSHEY_SIMPLEX"
   ]
  },
  {
   "cell_type": "code",
   "execution_count": 20,
   "metadata": {},
   "outputs": [],
   "source": [
    "# mouse callback function\n",
    "def draw_circle(event,x,y,flags,param):\n",
    "    global ix,iy,cx,cy,drawing,mode\n",
    "    if event == cv2.EVENT_LBUTTONDOWN:\n",
    "        drawing = True\n",
    "        ix,iy = x,y\n",
    "        cx,cy = x,y\n",
    "    elif event == cv2.EVENT_MOUSEMOVE:\n",
    "        if drawing == True:\n",
    "            cx,cy = x,y\n",
    "    elif event == cv2.EVENT_LBUTTONUP:\n",
    "        drawing = False\n",
    "        cx,cy = x,y\n",
    "def nothing(x):\n",
    "    pass        "
   ]
  },
  {
   "cell_type": "code",
   "execution_count": null,
   "metadata": {},
   "outputs": [],
   "source": [
    "#img = np.zeros((512,512,3), np.uint8)\n",
    "img = cv2.imread('sonny.jpg')\n",
    "cv2.namedWindow('image')\n",
    "cv2.setMouseCallback('image',draw_circle)\n",
    "cv2.createTrackbar('value','image',0,255,nothing)\n",
    "while(1):\n",
    "    img = cv2.imread('sonny.jpg')\n",
    "    k = cv2.waitKey(1) & 0xFF\n",
    "    if k == ord('m'):\n",
    "        mode+=1\n",
    "        if mode > 3:\n",
    "            mode=0\n",
    "    elif k == 27:\n",
    "        break\n",
    "    # get current positions of four trackbars\n",
    "    value = cv2.getTrackbarPos('value','image')    \n",
    "    if ix != -1 and iy != -1:\n",
    "        cv2.rectangle(img,(ix,iy),(cx,cy),(0,255,0),0) \n",
    "        if mode == 1:\n",
    "            clip = img[iy:cy,ix:cx]\n",
    "            clip[:,:,1]=0 #green\n",
    "            clip[:,:,2]=0 #red\n",
    "        elif mode == 2:\n",
    "            clip = img[iy:cy,ix:cx]\n",
    "            clip[:,:,0]=0 #blue\n",
    "            clip[:,:,2]=0 #red\n",
    "        elif mode == 3:\n",
    "            clip = img[iy:cy,ix:cx]\n",
    "            clip[:,:,0]=0 #blue\n",
    "            clip[:,:,1]=0 #green\n",
    "    msg = \"Mouse position (\"+str(ix)+\",\"+str(iy)+\") - (\"+str(cx)+\",\"+str(cy)+\") - \"+str(value)+\" - \"+str(mode)\n",
    "    cv2.putText(img,msg,(10,30),font,.6,(255,255,255),1,cv2.LINE_AA)\n",
    "    cv2.imshow('image',img)\n",
    "cv2.destroyAllWindows()"
   ]
  },
  {
   "cell_type": "code",
   "execution_count": null,
   "metadata": {},
   "outputs": [],
   "source": [
    "def imageshow(img):\n",
    "    cv2.imshow('image',img)\n",
    "    k = cv2.waitKey(0)\n",
    "    if k == 27: # wait for ESC key to exit\n",
    "        cv2.destroyAllWindows()"
   ]
  },
  {
   "cell_type": "code",
   "execution_count": null,
   "metadata": {},
   "outputs": [],
   "source": [
    "img = cv2.imread('sonny.jpg')"
   ]
  },
  {
   "cell_type": "code",
   "execution_count": null,
   "metadata": {},
   "outputs": [],
   "source": [
    "img.shape"
   ]
  },
  {
   "cell_type": "code",
   "execution_count": null,
   "metadata": {},
   "outputs": [],
   "source": [
    "cv2.imageshow(img)"
   ]
  },
  {
   "cell_type": "code",
   "execution_count": null,
   "metadata": {},
   "outputs": [],
   "source": [
    "img[0:200,0:100]=[0,0,255]"
   ]
  },
  {
   "cell_type": "code",
   "execution_count": null,
   "metadata": {},
   "outputs": [],
   "source": [
    "img = cv2.imread('sonny.jpg')\n",
    "clip = img[400:600,400:500]\n",
    "clip[:,:,1]=0\n",
    "clip[:,:,2]=0"
   ]
  },
  {
   "cell_type": "code",
   "execution_count": null,
   "metadata": {},
   "outputs": [],
   "source": []
  },
  {
   "cell_type": "code",
   "execution_count": null,
   "metadata": {},
   "outputs": [],
   "source": []
  }
 ],
 "metadata": {
  "kernelspec": {
   "display_name": "Python 3",
   "language": "python",
   "name": "python3"
  },
  "language_info": {
   "codemirror_mode": {
    "name": "ipython",
    "version": 3
   },
   "file_extension": ".py",
   "mimetype": "text/x-python",
   "name": "python",
   "nbconvert_exporter": "python",
   "pygments_lexer": "ipython3",
   "version": "3.8.3"
  }
 },
 "nbformat": 4,
 "nbformat_minor": 4
}
